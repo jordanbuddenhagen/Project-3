{
 "cells": [
  {
   "cell_type": "code",
   "execution_count": 1,
   "id": "352320f7",
   "metadata": {},
   "outputs": [],
   "source": [
    "import pandas as pd\n",
    "import numpy as np"
   ]
  },
  {
   "cell_type": "code",
   "execution_count": 2,
   "id": "457c8c41",
   "metadata": {},
   "outputs": [],
   "source": [
    "basics_url = 'https://datasets.imdbws.com/title.basics.tsv.gz'\n",
    "akas_url = 'https://datasets.imdbws.com/title.akas.tsv.gz'\n",
    "ratings_url = 'https://datasets.imdbws.com/title.ratings.tsv.gz'"
   ]
  },
  {
   "cell_type": "code",
   "execution_count": 3,
   "id": "bb7b19bc",
   "metadata": {},
   "outputs": [],
   "source": [
    "basics = pd.read_csv(basics_url, sep='\\t', low_memory=False)"
   ]
  },
  {
   "cell_type": "code",
   "execution_count": 4,
   "id": "4b8fe328",
   "metadata": {},
   "outputs": [],
   "source": [
    "akas = pd.read_csv(akas_url, sep='\\t', low_memory=False)"
   ]
  },
  {
   "cell_type": "code",
   "execution_count": 5,
   "id": "b90f4c0a",
   "metadata": {},
   "outputs": [],
   "source": [
    "ratings = pd.read_csv(ratings_url, sep='\\t', low_memory=False)"
   ]
  },
  {
   "cell_type": "markdown",
   "id": "ab823f57",
   "metadata": {},
   "source": [
    "# Title Basics"
   ]
  },
  {
   "cell_type": "code",
   "execution_count": 11,
   "id": "eeb2f268",
   "metadata": {},
   "outputs": [],
   "source": [
    "basics.replace({'\\\\N':np.nan}, inplace=True)\n"
   ]
  },
  {
   "cell_type": "code",
   "execution_count": 13,
   "id": "f683f4df",
   "metadata": {},
   "outputs": [],
   "source": [
    "basics = basics.dropna(subset=['runtimeMinutes'])"
   ]
  },
  {
   "cell_type": "code",
   "execution_count": 14,
   "id": "cf0e2124",
   "metadata": {},
   "outputs": [
    {
     "data": {
      "text/plain": [
       "0"
      ]
     },
     "execution_count": 14,
     "metadata": {},
     "output_type": "execute_result"
    }
   ],
   "source": [
    "basics['runtimeMinutes'].isna().sum()"
   ]
  },
  {
   "cell_type": "code",
   "execution_count": 15,
   "id": "25eae85c",
   "metadata": {},
   "outputs": [],
   "source": [
    "basics = basics.dropna(subset=['genres'])"
   ]
  },
  {
   "cell_type": "code",
   "execution_count": 16,
   "id": "e3238f6c",
   "metadata": {},
   "outputs": [
    {
     "data": {
      "text/plain": [
       "0"
      ]
     },
     "execution_count": 16,
     "metadata": {},
     "output_type": "execute_result"
    }
   ],
   "source": [
    "basics['genres'].isna().sum()"
   ]
  },
  {
   "cell_type": "code",
   "execution_count": 17,
   "id": "06e0e544",
   "metadata": {},
   "outputs": [
    {
     "data": {
      "text/plain": [
       "tconst                  0\n",
       "titleType               0\n",
       "primaryTitle            1\n",
       "originalTitle           1\n",
       "isAdult                 0\n",
       "startYear          165204\n",
       "endYear           2774441\n",
       "runtimeMinutes          0\n",
       "genres                  0\n",
       "dtype: int64"
      ]
     },
     "execution_count": 17,
     "metadata": {},
     "output_type": "execute_result"
    }
   ],
   "source": [
    "basics.isna().sum()"
   ]
  },
  {
   "cell_type": "code",
   "execution_count": 18,
   "id": "1d6b462e",
   "metadata": {},
   "outputs": [],
   "source": [
    "basics['startYear'] = basics['startYear'].astype(float)"
   ]
  },
  {
   "cell_type": "code",
   "execution_count": 19,
   "id": "b90cf1bd",
   "metadata": {},
   "outputs": [],
   "source": [
    "basics= basics.dropna(subset=['startYear'])"
   ]
  },
  {
   "cell_type": "code",
   "execution_count": 20,
   "id": "90257938",
   "metadata": {},
   "outputs": [
    {
     "name": "stdout",
     "output_type": "stream",
     "text": [
      "<class 'pandas.core.frame.DataFrame'>\n",
      "Int64Index: 2659049 entries, 0 to 9842463\n",
      "Data columns (total 9 columns):\n",
      " #   Column          Dtype  \n",
      "---  ------          -----  \n",
      " 0   tconst          object \n",
      " 1   titleType       object \n",
      " 2   primaryTitle    object \n",
      " 3   originalTitle   object \n",
      " 4   isAdult         object \n",
      " 5   startYear       float64\n",
      " 6   endYear         object \n",
      " 7   runtimeMinutes  object \n",
      " 8   genres          object \n",
      "dtypes: float64(1), object(8)\n",
      "memory usage: 202.9+ MB\n"
     ]
    }
   ],
   "source": [
    "basics.info()"
   ]
  },
  {
   "cell_type": "code",
   "execution_count": 21,
   "id": "c37669ee",
   "metadata": {},
   "outputs": [],
   "source": [
    "basics_moviefilter = basics['titleType'] == 'movie' "
   ]
  },
  {
   "cell_type": "code",
   "execution_count": 22,
   "id": "9fd3d2ef",
   "metadata": {},
   "outputs": [
    {
     "data": {
      "text/plain": [
       "2659049"
      ]
     },
     "execution_count": 22,
     "metadata": {},
     "output_type": "execute_result"
    }
   ],
   "source": [
    "len(basics_moviefilter)"
   ]
  },
  {
   "cell_type": "code",
   "execution_count": 23,
   "id": "b8650aa7",
   "metadata": {},
   "outputs": [],
   "source": [
    "year_filter_2000 = basics['startYear'] > 1999"
   ]
  },
  {
   "cell_type": "code",
   "execution_count": 24,
   "id": "211cb2b7",
   "metadata": {},
   "outputs": [
    {
     "data": {
      "text/plain": [
       "2659049"
      ]
     },
     "execution_count": 24,
     "metadata": {},
     "output_type": "execute_result"
    }
   ],
   "source": [
    "len(year_filter_2000)"
   ]
  },
  {
   "cell_type": "code",
   "execution_count": 25,
   "id": "d1973711",
   "metadata": {},
   "outputs": [],
   "source": [
    "year_filter_2022 = basics['startYear'] < 2023"
   ]
  },
  {
   "cell_type": "code",
   "execution_count": 26,
   "id": "63aeb719",
   "metadata": {},
   "outputs": [
    {
     "data": {
      "text/plain": [
       "2659049"
      ]
     },
     "execution_count": 26,
     "metadata": {},
     "output_type": "execute_result"
    }
   ],
   "source": [
    "len(year_filter_2022)"
   ]
  },
  {
   "cell_type": "code",
   "execution_count": 27,
   "id": "b520b389",
   "metadata": {},
   "outputs": [],
   "source": [
    "basics_combined_filter = year_filter_2000 & year_filter_2022 & basics_moviefilter"
   ]
  },
  {
   "cell_type": "code",
   "execution_count": 28,
   "id": "fd0505b3",
   "metadata": {},
   "outputs": [
    {
     "data": {
      "text/plain": [
       "2659049"
      ]
     },
     "execution_count": 28,
     "metadata": {},
     "output_type": "execute_result"
    }
   ],
   "source": [
    "len(basics_combined_filter)"
   ]
  },
  {
   "cell_type": "code",
   "execution_count": 29,
   "id": "bab83239",
   "metadata": {},
   "outputs": [],
   "source": [
    "basics_df =basics.loc[basics_combined_filter]"
   ]
  },
  {
   "cell_type": "code",
   "execution_count": 30,
   "id": "84f0e942",
   "metadata": {},
   "outputs": [],
   "source": [
    "is_documentary = basics_df['genres'].str.contains('documentary',case=False)\n",
    "basics_df = basics_df[~is_documentary]\n",
    "\n"
   ]
  },
  {
   "cell_type": "code",
   "execution_count": 31,
   "id": "34e4f72d",
   "metadata": {},
   "outputs": [
    {
     "data": {
      "text/html": [
       "<div>\n",
       "<style scoped>\n",
       "    .dataframe tbody tr th:only-of-type {\n",
       "        vertical-align: middle;\n",
       "    }\n",
       "\n",
       "    .dataframe tbody tr th {\n",
       "        vertical-align: top;\n",
       "    }\n",
       "\n",
       "    .dataframe thead th {\n",
       "        text-align: right;\n",
       "    }\n",
       "</style>\n",
       "<table border=\"1\" class=\"dataframe\">\n",
       "  <thead>\n",
       "    <tr style=\"text-align: right;\">\n",
       "      <th></th>\n",
       "      <th>tconst</th>\n",
       "      <th>titleType</th>\n",
       "      <th>primaryTitle</th>\n",
       "      <th>originalTitle</th>\n",
       "      <th>isAdult</th>\n",
       "      <th>startYear</th>\n",
       "      <th>endYear</th>\n",
       "      <th>runtimeMinutes</th>\n",
       "      <th>genres</th>\n",
       "    </tr>\n",
       "  </thead>\n",
       "  <tbody>\n",
       "    <tr>\n",
       "      <th>34803</th>\n",
       "      <td>tt0035423</td>\n",
       "      <td>movie</td>\n",
       "      <td>Kate &amp; Leopold</td>\n",
       "      <td>Kate &amp; Leopold</td>\n",
       "      <td>0</td>\n",
       "      <td>2001.0</td>\n",
       "      <td>NaN</td>\n",
       "      <td>118</td>\n",
       "      <td>Comedy,Fantasy,Romance</td>\n",
       "    </tr>\n",
       "    <tr>\n",
       "      <th>61116</th>\n",
       "      <td>tt0062336</td>\n",
       "      <td>movie</td>\n",
       "      <td>The Tango of the Widower and Its Distorting Mi...</td>\n",
       "      <td>El tango del viudo y su espejo deformante</td>\n",
       "      <td>0</td>\n",
       "      <td>2020.0</td>\n",
       "      <td>NaN</td>\n",
       "      <td>70</td>\n",
       "      <td>Drama</td>\n",
       "    </tr>\n",
       "    <tr>\n",
       "      <th>67669</th>\n",
       "      <td>tt0069049</td>\n",
       "      <td>movie</td>\n",
       "      <td>The Other Side of the Wind</td>\n",
       "      <td>The Other Side of the Wind</td>\n",
       "      <td>0</td>\n",
       "      <td>2018.0</td>\n",
       "      <td>NaN</td>\n",
       "      <td>122</td>\n",
       "      <td>Drama</td>\n",
       "    </tr>\n",
       "    <tr>\n",
       "      <th>86801</th>\n",
       "      <td>tt0088751</td>\n",
       "      <td>movie</td>\n",
       "      <td>The Naked Monster</td>\n",
       "      <td>The Naked Monster</td>\n",
       "      <td>0</td>\n",
       "      <td>2005.0</td>\n",
       "      <td>NaN</td>\n",
       "      <td>100</td>\n",
       "      <td>Comedy,Horror,Sci-Fi</td>\n",
       "    </tr>\n",
       "    <tr>\n",
       "      <th>93938</th>\n",
       "      <td>tt0096056</td>\n",
       "      <td>movie</td>\n",
       "      <td>Crime and Punishment</td>\n",
       "      <td>Crime and Punishment</td>\n",
       "      <td>0</td>\n",
       "      <td>2002.0</td>\n",
       "      <td>NaN</td>\n",
       "      <td>126</td>\n",
       "      <td>Drama</td>\n",
       "    </tr>\n",
       "  </tbody>\n",
       "</table>\n",
       "</div>"
      ],
      "text/plain": [
       "          tconst titleType                                       primaryTitle  \\\n",
       "34803  tt0035423     movie                                     Kate & Leopold   \n",
       "61116  tt0062336     movie  The Tango of the Widower and Its Distorting Mi...   \n",
       "67669  tt0069049     movie                         The Other Side of the Wind   \n",
       "86801  tt0088751     movie                                  The Naked Monster   \n",
       "93938  tt0096056     movie                               Crime and Punishment   \n",
       "\n",
       "                                   originalTitle isAdult  startYear endYear  \\\n",
       "34803                             Kate & Leopold       0     2001.0     NaN   \n",
       "61116  El tango del viudo y su espejo deformante       0     2020.0     NaN   \n",
       "67669                 The Other Side of the Wind       0     2018.0     NaN   \n",
       "86801                          The Naked Monster       0     2005.0     NaN   \n",
       "93938                       Crime and Punishment       0     2002.0     NaN   \n",
       "\n",
       "      runtimeMinutes                  genres  \n",
       "34803            118  Comedy,Fantasy,Romance  \n",
       "61116             70                   Drama  \n",
       "67669            122                   Drama  \n",
       "86801            100    Comedy,Horror,Sci-Fi  \n",
       "93938            126                   Drama  "
      ]
     },
     "execution_count": 31,
     "metadata": {},
     "output_type": "execute_result"
    }
   ],
   "source": [
    "basics_df.head()"
   ]
  },
  {
   "cell_type": "code",
   "execution_count": 32,
   "id": "68fd683d",
   "metadata": {},
   "outputs": [
    {
     "data": {
      "text/plain": [
       "34803       True\n",
       "61116       True\n",
       "67669       True\n",
       "86801       True\n",
       "93938       True\n",
       "           ...  \n",
       "9842137     True\n",
       "9842146     True\n",
       "9842185    False\n",
       "9842230     True\n",
       "9842314    False\n",
       "Name: tconst, Length: 147482, dtype: bool"
      ]
     },
     "execution_count": 32,
     "metadata": {},
     "output_type": "execute_result"
    }
   ],
   "source": [
    "keepers = basics_df['tconst'].isin(akas_df['titleId'])\n",
    "keepers"
   ]
  },
  {
   "cell_type": "code",
   "execution_count": 33,
   "id": "17e7577d",
   "metadata": {},
   "outputs": [],
   "source": [
    "basics_df = basics_df[keepers]"
   ]
  },
  {
   "cell_type": "code",
   "execution_count": 34,
   "id": "8adde8d2",
   "metadata": {},
   "outputs": [
    {
     "name": "stdout",
     "output_type": "stream",
     "text": [
      "<class 'pandas.core.frame.DataFrame'>\n",
      "Int64Index: 86688 entries, 34803 to 9842230\n",
      "Data columns (total 9 columns):\n",
      " #   Column          Non-Null Count  Dtype  \n",
      "---  ------          --------------  -----  \n",
      " 0   tconst          86688 non-null  object \n",
      " 1   titleType       86688 non-null  object \n",
      " 2   primaryTitle    86688 non-null  object \n",
      " 3   originalTitle   86688 non-null  object \n",
      " 4   isAdult         86688 non-null  object \n",
      " 5   startYear       86688 non-null  float64\n",
      " 6   endYear         0 non-null      object \n",
      " 7   runtimeMinutes  86688 non-null  object \n",
      " 8   genres          86688 non-null  object \n",
      "dtypes: float64(1), object(8)\n",
      "memory usage: 6.6+ MB\n"
     ]
    }
   ],
   "source": [
    "basics_df.info()"
   ]
  },
  {
   "cell_type": "markdown",
   "id": "7951375d",
   "metadata": {},
   "source": [
    "# AKAS "
   ]
  },
  {
   "cell_type": "code",
   "execution_count": 6,
   "id": "7a4dc365",
   "metadata": {},
   "outputs": [],
   "source": [
    "akas.replace({'\\\\N':np.nan}, inplace=True)"
   ]
  },
  {
   "cell_type": "code",
   "execution_count": 7,
   "id": "8fd58d44",
   "metadata": {},
   "outputs": [
    {
     "data": {
      "text/html": [
       "<div>\n",
       "<style scoped>\n",
       "    .dataframe tbody tr th:only-of-type {\n",
       "        vertical-align: middle;\n",
       "    }\n",
       "\n",
       "    .dataframe tbody tr th {\n",
       "        vertical-align: top;\n",
       "    }\n",
       "\n",
       "    .dataframe thead th {\n",
       "        text-align: right;\n",
       "    }\n",
       "</style>\n",
       "<table border=\"1\" class=\"dataframe\">\n",
       "  <thead>\n",
       "    <tr style=\"text-align: right;\">\n",
       "      <th></th>\n",
       "      <th>titleId</th>\n",
       "      <th>ordering</th>\n",
       "      <th>title</th>\n",
       "      <th>region</th>\n",
       "      <th>language</th>\n",
       "      <th>types</th>\n",
       "      <th>attributes</th>\n",
       "      <th>isOriginalTitle</th>\n",
       "    </tr>\n",
       "  </thead>\n",
       "  <tbody>\n",
       "    <tr>\n",
       "      <th>0</th>\n",
       "      <td>tt0000001</td>\n",
       "      <td>1</td>\n",
       "      <td>Карменсіта</td>\n",
       "      <td>UA</td>\n",
       "      <td>NaN</td>\n",
       "      <td>imdbDisplay</td>\n",
       "      <td>NaN</td>\n",
       "      <td>0</td>\n",
       "    </tr>\n",
       "    <tr>\n",
       "      <th>1</th>\n",
       "      <td>tt0000001</td>\n",
       "      <td>2</td>\n",
       "      <td>Carmencita</td>\n",
       "      <td>DE</td>\n",
       "      <td>NaN</td>\n",
       "      <td>NaN</td>\n",
       "      <td>literal title</td>\n",
       "      <td>0</td>\n",
       "    </tr>\n",
       "    <tr>\n",
       "      <th>2</th>\n",
       "      <td>tt0000001</td>\n",
       "      <td>3</td>\n",
       "      <td>Carmencita - spanyol tánc</td>\n",
       "      <td>HU</td>\n",
       "      <td>NaN</td>\n",
       "      <td>imdbDisplay</td>\n",
       "      <td>NaN</td>\n",
       "      <td>0</td>\n",
       "    </tr>\n",
       "    <tr>\n",
       "      <th>3</th>\n",
       "      <td>tt0000001</td>\n",
       "      <td>4</td>\n",
       "      <td>Καρμενσίτα</td>\n",
       "      <td>GR</td>\n",
       "      <td>NaN</td>\n",
       "      <td>imdbDisplay</td>\n",
       "      <td>NaN</td>\n",
       "      <td>0</td>\n",
       "    </tr>\n",
       "    <tr>\n",
       "      <th>4</th>\n",
       "      <td>tt0000001</td>\n",
       "      <td>5</td>\n",
       "      <td>Карменсита</td>\n",
       "      <td>RU</td>\n",
       "      <td>NaN</td>\n",
       "      <td>imdbDisplay</td>\n",
       "      <td>NaN</td>\n",
       "      <td>0</td>\n",
       "    </tr>\n",
       "  </tbody>\n",
       "</table>\n",
       "</div>"
      ],
      "text/plain": [
       "     titleId  ordering                      title region language  \\\n",
       "0  tt0000001         1                 Карменсіта     UA      NaN   \n",
       "1  tt0000001         2                 Carmencita     DE      NaN   \n",
       "2  tt0000001         3  Carmencita - spanyol tánc     HU      NaN   \n",
       "3  tt0000001         4                 Καρμενσίτα     GR      NaN   \n",
       "4  tt0000001         5                 Карменсита     RU      NaN   \n",
       "\n",
       "         types     attributes isOriginalTitle  \n",
       "0  imdbDisplay            NaN               0  \n",
       "1          NaN  literal title               0  \n",
       "2  imdbDisplay            NaN               0  \n",
       "3  imdbDisplay            NaN               0  \n",
       "4  imdbDisplay            NaN               0  "
      ]
     },
     "execution_count": 7,
     "metadata": {},
     "output_type": "execute_result"
    }
   ],
   "source": [
    "akas.head()"
   ]
  },
  {
   "cell_type": "code",
   "execution_count": 8,
   "id": "93a533c8",
   "metadata": {},
   "outputs": [],
   "source": [
    "akas_USfilter = akas['region'] == 'US' "
   ]
  },
  {
   "cell_type": "code",
   "execution_count": 9,
   "id": "d62fbbe2",
   "metadata": {},
   "outputs": [
    {
     "data": {
      "text/plain": [
       "35873523"
      ]
     },
     "execution_count": 9,
     "metadata": {},
     "output_type": "execute_result"
    }
   ],
   "source": [
    "len(akas_USfilter)"
   ]
  },
  {
   "cell_type": "code",
   "execution_count": 10,
   "id": "d34a4e68",
   "metadata": {},
   "outputs": [],
   "source": [
    "akas_df = akas[akas_USfilter]"
   ]
  },
  {
   "cell_type": "markdown",
   "id": "ac39b914",
   "metadata": {},
   "source": [
    "# Ratings"
   ]
  },
  {
   "cell_type": "code",
   "execution_count": 12,
   "id": "c2ab9323",
   "metadata": {},
   "outputs": [],
   "source": [
    "ratings.replace({'\\\\N':np.nan}, inplace=True)"
   ]
  },
  {
   "cell_type": "code",
   "execution_count": 35,
   "id": "09099545",
   "metadata": {},
   "outputs": [
    {
     "data": {
      "text/html": [
       "<div>\n",
       "<style scoped>\n",
       "    .dataframe tbody tr th:only-of-type {\n",
       "        vertical-align: middle;\n",
       "    }\n",
       "\n",
       "    .dataframe tbody tr th {\n",
       "        vertical-align: top;\n",
       "    }\n",
       "\n",
       "    .dataframe thead th {\n",
       "        text-align: right;\n",
       "    }\n",
       "</style>\n",
       "<table border=\"1\" class=\"dataframe\">\n",
       "  <thead>\n",
       "    <tr style=\"text-align: right;\">\n",
       "      <th></th>\n",
       "      <th>tconst</th>\n",
       "      <th>averageRating</th>\n",
       "      <th>numVotes</th>\n",
       "    </tr>\n",
       "  </thead>\n",
       "  <tbody>\n",
       "    <tr>\n",
       "      <th>0</th>\n",
       "      <td>tt0000001</td>\n",
       "      <td>5.7</td>\n",
       "      <td>1971</td>\n",
       "    </tr>\n",
       "    <tr>\n",
       "      <th>1</th>\n",
       "      <td>tt0000002</td>\n",
       "      <td>5.8</td>\n",
       "      <td>263</td>\n",
       "    </tr>\n",
       "    <tr>\n",
       "      <th>2</th>\n",
       "      <td>tt0000003</td>\n",
       "      <td>6.5</td>\n",
       "      <td>1816</td>\n",
       "    </tr>\n",
       "    <tr>\n",
       "      <th>3</th>\n",
       "      <td>tt0000004</td>\n",
       "      <td>5.6</td>\n",
       "      <td>178</td>\n",
       "    </tr>\n",
       "    <tr>\n",
       "      <th>4</th>\n",
       "      <td>tt0000005</td>\n",
       "      <td>6.2</td>\n",
       "      <td>2612</td>\n",
       "    </tr>\n",
       "  </tbody>\n",
       "</table>\n",
       "</div>"
      ],
      "text/plain": [
       "      tconst  averageRating  numVotes\n",
       "0  tt0000001            5.7      1971\n",
       "1  tt0000002            5.8       263\n",
       "2  tt0000003            6.5      1816\n",
       "3  tt0000004            5.6       178\n",
       "4  tt0000005            6.2      2612"
      ]
     },
     "execution_count": 35,
     "metadata": {},
     "output_type": "execute_result"
    }
   ],
   "source": [
    "ratings.head()"
   ]
  },
  {
   "cell_type": "code",
   "execution_count": 36,
   "id": "f08145d4",
   "metadata": {},
   "outputs": [
    {
     "data": {
      "text/plain": [
       "0           True\n",
       "1           True\n",
       "2          False\n",
       "3          False\n",
       "4           True\n",
       "           ...  \n",
       "1309290    False\n",
       "1309291    False\n",
       "1309292    False\n",
       "1309293    False\n",
       "1309294    False\n",
       "Name: tconst, Length: 1309295, dtype: bool"
      ]
     },
     "execution_count": 36,
     "metadata": {},
     "output_type": "execute_result"
    }
   ],
   "source": [
    "keepers2 = ratings['tconst'].isin(akas_df['titleId'])\n",
    "keepers2"
   ]
  },
  {
   "cell_type": "code",
   "execution_count": 37,
   "id": "055ddd70",
   "metadata": {},
   "outputs": [],
   "source": [
    "ratings_df = ratings[keepers2]"
   ]
  },
  {
   "cell_type": "markdown",
   "id": "acd0af8e",
   "metadata": {},
   "source": [
    "# Data Info of each dataframe"
   ]
  },
  {
   "cell_type": "code",
   "execution_count": 38,
   "id": "1185bcd6",
   "metadata": {},
   "outputs": [
    {
     "name": "stdout",
     "output_type": "stream",
     "text": [
      "<class 'pandas.core.frame.DataFrame'>\n",
      "Int64Index: 86688 entries, 34803 to 9842230\n",
      "Data columns (total 9 columns):\n",
      " #   Column          Non-Null Count  Dtype  \n",
      "---  ------          --------------  -----  \n",
      " 0   tconst          86688 non-null  object \n",
      " 1   titleType       86688 non-null  object \n",
      " 2   primaryTitle    86688 non-null  object \n",
      " 3   originalTitle   86688 non-null  object \n",
      " 4   isAdult         86688 non-null  object \n",
      " 5   startYear       86688 non-null  float64\n",
      " 6   endYear         0 non-null      object \n",
      " 7   runtimeMinutes  86688 non-null  object \n",
      " 8   genres          86688 non-null  object \n",
      "dtypes: float64(1), object(8)\n",
      "memory usage: 6.6+ MB\n"
     ]
    }
   ],
   "source": [
    "basics_df.info()"
   ]
  },
  {
   "cell_type": "code",
   "execution_count": 39,
   "id": "998b396d",
   "metadata": {},
   "outputs": [
    {
     "name": "stdout",
     "output_type": "stream",
     "text": [
      "<class 'pandas.core.frame.DataFrame'>\n",
      "Int64Index: 1436149 entries, 5 to 35873267\n",
      "Data columns (total 8 columns):\n",
      " #   Column           Non-Null Count    Dtype \n",
      "---  ------           --------------    ----- \n",
      " 0   titleId          1436149 non-null  object\n",
      " 1   ordering         1436149 non-null  int64 \n",
      " 2   title            1436149 non-null  object\n",
      " 3   region           1436149 non-null  object\n",
      " 4   language         3922 non-null     object\n",
      " 5   types            978749 non-null   object\n",
      " 6   attributes       46546 non-null    object\n",
      " 7   isOriginalTitle  1434804 non-null  object\n",
      "dtypes: int64(1), object(7)\n",
      "memory usage: 98.6+ MB\n"
     ]
    }
   ],
   "source": [
    "akas_df.info()"
   ]
  },
  {
   "cell_type": "code",
   "execution_count": 40,
   "id": "a57d021f",
   "metadata": {},
   "outputs": [
    {
     "name": "stdout",
     "output_type": "stream",
     "text": [
      "<class 'pandas.core.frame.DataFrame'>\n",
      "Int64Index: 498034 entries, 0 to 1309270\n",
      "Data columns (total 3 columns):\n",
      " #   Column         Non-Null Count   Dtype  \n",
      "---  ------         --------------   -----  \n",
      " 0   tconst         498034 non-null  object \n",
      " 1   averageRating  498034 non-null  float64\n",
      " 2   numVotes       498034 non-null  int64  \n",
      "dtypes: float64(1), int64(1), object(1)\n",
      "memory usage: 15.2+ MB\n"
     ]
    }
   ],
   "source": [
    "ratings_df.info()"
   ]
  },
  {
   "cell_type": "code",
   "execution_count": 41,
   "id": "06565c24",
   "metadata": {},
   "outputs": [],
   "source": [
    "import os"
   ]
  },
  {
   "cell_type": "code",
   "execution_count": 42,
   "id": "79f1edf3",
   "metadata": {},
   "outputs": [],
   "source": [
    "os.makedirs('Data/', exist_ok=True)"
   ]
  },
  {
   "cell_type": "code",
   "execution_count": 43,
   "id": "3b9e6540",
   "metadata": {},
   "outputs": [
    {
     "data": {
      "text/plain": [
       "[]"
      ]
     },
     "execution_count": 43,
     "metadata": {},
     "output_type": "execute_result"
    }
   ],
   "source": [
    "os.listdir('Data/')"
   ]
  },
  {
   "cell_type": "code",
   "execution_count": 44,
   "id": "217138d9",
   "metadata": {},
   "outputs": [],
   "source": [
    "basics_df.to_csv('Data/title_basics.csv.gz', compression='gzip', index=False)"
   ]
  },
  {
   "cell_type": "code",
   "execution_count": 45,
   "id": "53419749",
   "metadata": {},
   "outputs": [],
   "source": [
    "akas_df.to_csv('Data/AKAS.csv.gz', compression='gzip', index=False)"
   ]
  },
  {
   "cell_type": "code",
   "execution_count": 46,
   "id": "93407517",
   "metadata": {},
   "outputs": [],
   "source": [
    "ratings_df.to_csv('Data/ratings.csv.gz', compression='gzip', index=False)"
   ]
  },
  {
   "cell_type": "code",
   "execution_count": null,
   "id": "5ae2ba54",
   "metadata": {},
   "outputs": [],
   "source": []
  }
 ],
 "metadata": {
  "kernelspec": {
   "display_name": "Python 3 (ipykernel)",
   "language": "python",
   "name": "python3"
  },
  "language_info": {
   "codemirror_mode": {
    "name": "ipython",
    "version": 3
   },
   "file_extension": ".py",
   "mimetype": "text/x-python",
   "name": "python",
   "nbconvert_exporter": "python",
   "pygments_lexer": "ipython3",
   "version": "3.9.15"
  },
  "toc": {
   "base_numbering": 1,
   "nav_menu": {},
   "number_sections": true,
   "sideBar": true,
   "skip_h1_title": false,
   "title_cell": "Table of Contents",
   "title_sidebar": "Contents",
   "toc_cell": false,
   "toc_position": {},
   "toc_section_display": true,
   "toc_window_display": true
  }
 },
 "nbformat": 4,
 "nbformat_minor": 5
}
